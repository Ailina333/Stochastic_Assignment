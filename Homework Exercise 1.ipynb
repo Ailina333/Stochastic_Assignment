{
 "cells": [
  {
   "cell_type": "markdown",
   "metadata": {},
   "source": [
    "# Homework Exercise 1\n",
    "## Kelly Betting\n"
   ]
  },
  {
   "cell_type": "markdown",
   "metadata": {},
   "source": [
    "a) Write a simulation program of a single run. A run is the evolution of the capital.\n",
    "The inputs are θ (deposit fraction), V0 (initial capital), p (winning probability), f\n",
    "(return multiplier when winning), and M (length of the run). The output is the\n",
    "end capital VM"
   ]
  },
  {
   "cell_type": "code",
   "execution_count": 1,
   "metadata": {},
   "outputs": [],
   "source": [
    "# loading libraries\n",
    "import numpy as np\n",
    "import numpy.random as rnd\n",
    "import scipy.stats as sts\n",
    "import matplotlib.pyplot as plt\n",
    "import pandas as pd"
   ]
  },
  {
   "cell_type": "code",
   "execution_count": 2,
   "metadata": {},
   "outputs": [
    {
     "name": "stdout",
     "output_type": "stream",
     "text": [
      "\n",
      "Inital Capital 1000\n",
      "End Capital 716.8\n",
      "Growth Factor -0.08323960433035409\n"
     ]
    }
   ],
   "source": [
    "def kellyBetting(theta, V0, p, f, M):\n",
    "    VK = [] \n",
    "    VK.append(V0)\n",
    "    \n",
    "    for i in range(1,M+1):\n",
    "        rv = rnd.binomial(size=1, n=1, p=p)[0]\n",
    "        xk = theta*VK[i-1]\n",
    "        VK.append(rv*(VK[i-1]+(f-1)*xk)+(1-rv)*(VK[i-1]-xk))\n",
    "    return VK[-1]\n",
    "\n",
    "def growth_factor(VK, V0,M):\n",
    "    #logarithmic growth factor\n",
    "    return 1/M*np.log(VK/V0)\n",
    "\n",
    "def main():\n",
    "    theta = 0.2\n",
    "    V0 = 1000\n",
    "    # probability \n",
    "    p = 0.36\n",
    "    # deposit is mulitplied by \n",
    "    f = 3\n",
    "    # moments of opportunity to extract a certain amount\n",
    "    M = 4\n",
    "    VE = kellyBetting(theta, V0, p, f, M)\n",
    "    L = growth_factor(VE,V0, M)\n",
    "    print(\"\")\n",
    "    print(\"Inital Capital\", V0)\n",
    "    print(\"End Capital\", VE)\n",
    "    print(\"Growth Factor\", L)\n",
    "    \n",
    "# results of a single run\n",
    "main()"
   ]
  },
  {
   "cell_type": "markdown",
   "metadata": {},
   "source": [
    "b)  Choose some values for the parameters V0, p, f, M such that pf > 1, and M ≥ 24\n",
    "(interpretation: the opportunity moments are once per month; the plan is for at\n",
    "least two years). Choose a deposit fraction θ. Estimate J(θ) = E[L(θ)] by running\n",
    "sufficiently many sample paths. Give standard error and 95% confidence interval.\n",
    "Check normality of the estimator by repeating R times (R sufficiently large) for\n",
    "getting R observations of the estimator, and then (i) plot the histogram of these\n",
    "data (should be Gaussian), (ii) compute the descriptive statistics of the data (mean,\n",
    "variance, skewness, kurtosis), and (iii) run a normality test"
   ]
  },
  {
   "cell_type": "code",
   "execution_count": 4,
   "metadata": {},
   "outputs": [
    {
     "name": "stdout",
     "output_type": "stream",
     "text": [
      "\n",
      "estimate:  -0.023323407302068163\n",
      "se : 0.001496024816020291\n",
      "95%  ci: -0.026255615941467934 -0.02039119866266839\n",
      "\n",
      "statistics\n",
      "DescribeResult(nobs=1000, minmax=(11.610523571578899, 89838.1051912432), mean=1441.5069604553519, variance=16866770.895362433, skewness=13.017039111663466, kurtosis=240.0676256361564)\n",
      "\n",
      "Jarque-Bera test for normality\n",
      "test statistics 2429593.254480002\n",
      "p-value 0.0\n"
     ]
    },
    {
     "data": {
      "image/png": "[encoded data removed]",
      "text/plain": [
       "<Figure size 432x288 with 1 Axes>"
      ]
     },
     "metadata": {
      "needs_background": "light"
     },
     "output_type": "display_data"
    }
   ],
   "source": [
    "def main2():\n",
    "    V0 = 1000\n",
    "    # deposit is mulitplied by \n",
    "    f = 3\n",
    "    # moments of opportunity to extract a certain amount\n",
    "    M = 30\n",
    "    # number of simulations\n",
    "    s = 1000\n",
    "    y = np.zeros(s)\n",
    "    g = np.zeros(s)\n",
    "    theta = 0.20\n",
    "    p = 0.36\n",
    "    for i in range(0,s):\n",
    "        y[i]=kellyBetting(theta, V0, p, f, M)\n",
    "        g[i] = growth_factor(y[i], V0, M)\n",
    "    est = np.mean(g)\n",
    "    s2 = np.var(g,ddof=1)\n",
    "    se = np.sqrt(s2/i)\n",
    "    \n",
    "    # check for normality of estimators\n",
    "    R = 1000\n",
    "    est1 = np.zeros(R)\n",
    "    for j in range(R):\n",
    "        log_growths = []\n",
    "        for i in range(s):\n",
    "            VE = kellyBetting(theta, V0, p, f, M)\n",
    "            log_growths.append(growth_factor(VE, V0, M))\n",
    "        est1[j] = sum(log_growths) / len(log_growths)\n",
    "   \n",
    "    # histogram\n",
    "    plt.hist(est1, bins=np.arange(min(est1), max(est1) + 0.0005, 0.0005))\n",
    "    plt.xlabel(\"J(theta)\")\n",
    "    plt.ylabel(\"number of estimates\")\n",
    "    # describtive statistics\n",
    "    print(\"\")\n",
    "    print(\"estimate: \", est)\n",
    "    print(\"se :\", se)\n",
    "    print(\"95%  ci:\", est-1.96*se, est+1.96*se)\n",
    "    print(\"\")\n",
    "    print(\"statistics\")\n",
    "    print(sts.describe(y))\n",
    "    print(\"\")\n",
    "    \n",
    "    \n",
    "    # normality test\n",
    "    jb, pv = sts.jarque_bera(y)\n",
    "    print(\"Jarque-Bera test for normality\")\n",
    "    print(\"test statistics\", jb)\n",
    "    print(\"p-value\", pv)\n",
    "    \n",
    "    \n",
    "        \n",
    "main2()"
   ]
  },
  {
   "cell_type": "markdown",
   "metadata": {},
   "source": [
    "c) Plot the graph of (the estimate of) J(θ) for 0 ≤ θ < θ0, where θ0 < 1 is such that\n",
    "you see clearly a maximum of J(θ) (for instance, p = 0.36, f = 3, M = 60 then\n",
    "θ0 = 0.1 is fine). Use common random numbers."
   ]
  },
  {
   "cell_type": "code",
   "execution_count": 5,
   "metadata": {},
   "outputs": [
    {
     "data": {
      "text/plain": [
       "Text(0, 0.5, 'J(theta)')"
      ]
     },
     "execution_count": 5,
     "metadata": {},
     "output_type": "execute_result"
    },
    {
     "data": {
      "image/png": "[encoded data removed]",
      "text/plain": [
       "<Figure size 432x288 with 1 Axes>"
      ]
     },
     "metadata": {
      "needs_background": "light"
     },
     "output_type": "display_data"
    }
   ],
   "source": [
    "rng = rnd.default_rng()\n",
    "#  s number of simulations\n",
    "s = 1000\n",
    "p = 0.36\n",
    "f = 3\n",
    "M = 60\n",
    "V0 = 1000\n",
    "theta0 = 0.1\n",
    "thetas = np.arange(0,0.11,0.01)\n",
    "\n",
    "estimate_theta = []\n",
    "for t in thetas:\n",
    "    log_growths=[]\n",
    "    for i in range(s):\n",
    "        VE = kellyBetting(t, V0, p, f, M)\n",
    "        log_growths.append(growth_factor(VE, V0, M))\n",
    "    estimate_theta.append(sum(log_growths) / len(log_growths))\n",
    "\n",
    "plt.plot(thetas, estimate_theta)\n",
    "plt.title(\"Estimates for logarithimic growth rate\")\n",
    "plt.xlabel(\"theta\")\n",
    "plt.ylabel(\"J(theta)\")"
   ]
  },
  {
   "cell_type": "code",
   "execution_count": 29,
   "metadata": {},
   "outputs": [
    {
     "data": {
      "text/html": [
       "<div>\n",
       "<style scoped>\n",
       "    .dataframe tbody tr th:only-of-type {\n",
       "        vertical-align: middle;\n",
       "    }\n",
       "\n",
       "    .dataframe tbody tr th {\n",
       "        vertical-align: top;\n",
       "    }\n",
       "\n",
       "    .dataframe thead th {\n",
       "        text-align: right;\n",
       "    }\n",
       "</style>\n",
       "<table border=\"1\" class=\"dataframe\">\n",
       "  <thead>\n",
       "    <tr style=\"text-align: right;\">\n",
       "      <th></th>\n",
       "      <th>0</th>\n",
       "      <th>0</th>\n",
       "    </tr>\n",
       "  </thead>\n",
       "  <tbody>\n",
       "    <tr>\n",
       "      <th>0</th>\n",
       "      <td>0.00</td>\n",
       "      <td>0.000000</td>\n",
       "    </tr>\n",
       "    <tr>\n",
       "      <th>1</th>\n",
       "      <td>0.01</td>\n",
       "      <td>0.000706</td>\n",
       "    </tr>\n",
       "    <tr>\n",
       "      <th>2</th>\n",
       "      <td>0.02</td>\n",
       "      <td>0.001291</td>\n",
       "    </tr>\n",
       "    <tr>\n",
       "      <th>3</th>\n",
       "      <td>0.03</td>\n",
       "      <td>0.001459</td>\n",
       "    </tr>\n",
       "    <tr>\n",
       "      <th>4</th>\n",
       "      <td>0.04</td>\n",
       "      <td>0.001588</td>\n",
       "    </tr>\n",
       "    <tr>\n",
       "      <th>5</th>\n",
       "      <td>0.05</td>\n",
       "      <td>0.001362</td>\n",
       "    </tr>\n",
       "    <tr>\n",
       "      <th>6</th>\n",
       "      <td>0.06</td>\n",
       "      <td>0.001420</td>\n",
       "    </tr>\n",
       "    <tr>\n",
       "      <th>7</th>\n",
       "      <td>0.07</td>\n",
       "      <td>0.000430</td>\n",
       "    </tr>\n",
       "    <tr>\n",
       "      <th>8</th>\n",
       "      <td>0.08</td>\n",
       "      <td>0.000206</td>\n",
       "    </tr>\n",
       "    <tr>\n",
       "      <th>9</th>\n",
       "      <td>0.09</td>\n",
       "      <td>-0.000397</td>\n",
       "    </tr>\n",
       "    <tr>\n",
       "      <th>10</th>\n",
       "      <td>0.10</td>\n",
       "      <td>-0.000903</td>\n",
       "    </tr>\n",
       "  </tbody>\n",
       "</table>\n",
       "</div>"
      ],
      "text/plain": [
       "       0         0\n",
       "0   0.00  0.000000\n",
       "1   0.01  0.000706\n",
       "2   0.02  0.001291\n",
       "3   0.03  0.001459\n",
       "4   0.04  0.001588\n",
       "5   0.05  0.001362\n",
       "6   0.06  0.001420\n",
       "7   0.07  0.000430\n",
       "8   0.08  0.000206\n",
       "9   0.09 -0.000397\n",
       "10  0.10 -0.000903"
      ]
     },
     "execution_count": 29,
     "metadata": {},
     "output_type": "execute_result"
    }
   ],
   "source": [
    "df = pd.DataFrame(thetas)\n",
    "df1 = pd.DataFrame(estimate_theta)\n",
    "# examine maximum\n",
    "df = pd.concat([df,df1],axis=1)\n",
    "df\n"
   ]
  },
  {
   "cell_type": "markdown",
   "metadata": {},
   "source": [
    "d) Repeat (c), concerning maximizing the expected end capital E[VM(θ)] as function\n",
    "of θ."
   ]
  },
  {
   "cell_type": "code",
   "execution_count": 7,
   "metadata": {},
   "outputs": [
    {
     "data": {
      "text/plain": [
       "Text(0, 0.5, 'End capital')"
      ]
     },
     "execution_count": 7,
     "metadata": {},
     "output_type": "execute_result"
    },
    {
     "data": {
      "image/png": "[encoded data removed]",
      "text/plain": [
       "<Figure size 432x288 with 1 Axes>"
      ]
     },
     "metadata": {
      "needs_background": "light"
     },
     "output_type": "display_data"
    }
   ],
   "source": [
    "estimate_theta_capital = []\n",
    "for t in thetas:\n",
    "    final_capital =[]\n",
    "    for i in range(s):\n",
    "        final_capital.append(kellyBetting(t, V0, p, f, M))\n",
    "    estimate_theta_capital.append(sum(final_capital) / len(final_capital))\n",
    "\n",
    "plt.plot(thetas, estimate_theta_capital)\n",
    "plt.title(\"Estimates of End Capital theta\")\n",
    "plt.xlabel(\"theta\")\n",
    "plt.ylabel(\"End capital\")"
   ]
  },
  {
   "cell_type": "markdown",
   "metadata": {},
   "source": [
    "e) From the graphs of E[L(θ)] (in (c)) and E[VM(θ)] (in (d)) (as functions of θ) you\n",
    "extract approximately the optimizing fractions θ\n",
    "∗\n",
    "(for the logarithmic growth), and\n",
    "θ\n",
    "∗∗ (for the end capital). Now run for these two fractions again sufficiently many\n",
    "sample paths and construct the histograms of the end capitals. These reflect the\n",
    "distributions of VM(θ\n",
    "∗\n",
    ") and VM(θ\n",
    "∗∗), respectively. Also, compute (estimate) the\n",
    "variances of VM(θ\n",
    "∗\n",
    ") and VM(θ\n",
    "∗∗). The variances reflect the risk of the investment\n",
    "plan"
   ]
  },
  {
   "cell_type": "code",
   "execution_count": 9,
   "metadata": {},
   "outputs": [
    {
     "data": {
      "image/png": "[encoded data removed]",
      "text/plain": [
       "<Figure size 720x360 with 2 Axes>"
      ]
     },
     "metadata": {
      "needs_background": "light"
     },
     "output_type": "display_data"
    },
    {
     "name": "stdout",
     "output_type": "stream",
     "text": [
      "Variance for maximizing logarithmic growth rate \n",
      " 343404.6394570824\n",
      "Variance for maximizing the end capital \n",
      " 5567076.35674315\n"
     ]
    }
   ],
   "source": [
    "# theta for max growth rate in c\n",
    "theta_growth = 0.04\n",
    "# theta for max captial in d\n",
    "theta_capital = 0.1\n",
    "\n",
    "end_capital_growth = []\n",
    "end_capital_capital = []\n",
    "for i in range(s):\n",
    "    VE_capital = kellyBetting(theta_growth, V0, p, f, M)\n",
    "    VE_growth = kellyBetting(theta_capital, V0, p, f, M)\n",
    "    end_capital_growth.append(VE_capital)\n",
    "    end_capital_capital.append(VE_growth)\n",
    "\n",
    "fig,(ax1, ax2) = plt.subplots(1, 2, figsize=(10,5))\n",
    "ax1.hist(end_capital_growth)\n",
    "ax1.set_ylabel(\"number of estimates\")\n",
    "ax1.set_title('Estimates for maximizing the logarithmic growth rate')\n",
    "ax1.set_xlabel(\"estimates for logarithmic growth rate\")\n",
    "ax2.hist(end_capital_capital)\n",
    "ax2.set_title('Estimates for maximizing the end capital')\n",
    "ax2.set_ylabel(\"number of estimates\")\n",
    "ax2.set_xlabel(\"estimates for end capital\")\n",
    "plt.show()\n",
    "\n",
    "print(\"Variance for maximizing logarithmic growth rate \\n\", np.var(end_capital_growth))\n",
    "print(\"Variance for maximizing the end capital \\n\", np.var(end_capital_capital))"
   ]
  },
  {
   "cell_type": "markdown",
   "metadata": {},
   "source": [
    "(f). Discuss your observations from the results in (e)."
   ]
  },
  {
   "cell_type": "markdown",
   "metadata": {},
   "source": [
    "The variance for maximizing the end capital is much larger (larger risk) than maximizing the growth rate. Additionally, the distribution for maximizing the end capital has a much higher peek and is less smoothly distributed compared to the distribution for maximizing the logarithmic growth rate. \n"
   ]
  },
  {
   "cell_type": "code",
   "execution_count": null,
   "metadata": {},
   "outputs": [],
   "source": []
  }
 ],
 "metadata": {
  "kernelspec": {
   "display_name": "Python 3",
   "language": "python",
   "name": "python3"
  },
  "language_info": {
   "codemirror_mode": {
    "name": "ipython",
    "version": 3
   },
   "file_extension": ".py",
   "mimetype": "text/x-python",
   "name": "python",
   "nbconvert_exporter": "python",
   "pygments_lexer": "ipython3",
   "version": "3.8.5"
  }
 },
 "nbformat": 4,
 "nbformat_minor": 4
}
